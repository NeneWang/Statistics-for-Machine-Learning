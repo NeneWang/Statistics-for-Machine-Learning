{
 "cells": [
  {
   "cell_type": "code",
   "execution_count": 2,
   "metadata": {},
   "outputs": [
    {
     "ename": "CompilerError",
     "evalue": "No LaTex compiler was found\nEither specify a LaTex compiler or make sure you have latexmk or pdfLaTex installed.",
     "output_type": "error",
     "traceback": [
      "\u001b[1;31m---------------------------------------------------------------------------\u001b[0m",
      "\u001b[1;31mCompilerError\u001b[0m                             Traceback (most recent call last)",
      "\u001b[1;32m<ipython-input-2-8079f9799730>\u001b[0m in \u001b[0;36m<module>\u001b[1;34m\u001b[0m\n\u001b[0;32m     22\u001b[0m     \u001b[0mfill_document\u001b[0m\u001b[1;33m(\u001b[0m\u001b[0mdoc\u001b[0m\u001b[1;33m)\u001b[0m\u001b[1;33m\u001b[0m\u001b[1;33m\u001b[0m\u001b[0m\n\u001b[0;32m     23\u001b[0m \u001b[1;33m\u001b[0m\u001b[0m\n\u001b[1;32m---> 24\u001b[1;33m     \u001b[0mdoc\u001b[0m\u001b[1;33m.\u001b[0m\u001b[0mgenerate_pdf\u001b[0m\u001b[1;33m(\u001b[0m\u001b[0mclean_tex\u001b[0m\u001b[1;33m=\u001b[0m\u001b[1;32mFalse\u001b[0m\u001b[1;33m)\u001b[0m\u001b[1;33m\u001b[0m\u001b[1;33m\u001b[0m\u001b[0m\n\u001b[0m\u001b[0;32m     25\u001b[0m     \u001b[0mdoc\u001b[0m\u001b[1;33m.\u001b[0m\u001b[0mgenerate_tex\u001b[0m\u001b[1;33m(\u001b[0m\u001b[1;33m)\u001b[0m\u001b[1;33m\u001b[0m\u001b[1;33m\u001b[0m\u001b[0m\n\u001b[0;32m     26\u001b[0m \u001b[1;33m\u001b[0m\u001b[0m\n",
      "\u001b[1;32m~\\anaconda3\\lib\\site-packages\\pylatex\\document.py\u001b[0m in \u001b[0;36mgenerate_pdf\u001b[1;34m(self, filepath, clean, clean_tex, compiler, compiler_args, silent)\u001b[0m\n\u001b[0;32m    296\u001b[0m         \u001b[1;32melse\u001b[0m\u001b[1;33m:\u001b[0m\u001b[1;33m\u001b[0m\u001b[1;33m\u001b[0m\u001b[0m\n\u001b[0;32m    297\u001b[0m             \u001b[1;31m# Notify user that none of the compilers worked.\u001b[0m\u001b[1;33m\u001b[0m\u001b[1;33m\u001b[0m\u001b[1;33m\u001b[0m\u001b[0m\n\u001b[1;32m--> 298\u001b[1;33m             raise(CompilerError(\n\u001b[0m\u001b[0;32m    299\u001b[0m                 \u001b[1;34m'No LaTex compiler was found\\n'\u001b[0m\u001b[1;33m\u001b[0m\u001b[1;33m\u001b[0m\u001b[0m\n\u001b[0;32m    300\u001b[0m                 \u001b[1;34m'Either specify a LaTex compiler '\u001b[0m\u001b[1;33m\u001b[0m\u001b[1;33m\u001b[0m\u001b[0m\n",
      "\u001b[1;31mCompilerError\u001b[0m: No LaTex compiler was found\nEither specify a LaTex compiler or make sure you have latexmk or pdfLaTex installed."
     ]
    }
   ],
   "source": [
    "\n",
    "# begin-doc-include\n",
    "from pylatex import Document, Section, Subsection, Command\n",
    "from pylatex.utils import italic, NoEscape\n",
    "\n",
    "\n",
    "def fill_document(doc):\n",
    "    \"\"\"Add a section, a subsection and some text to the document.\n",
    "    :param doc: the document\n",
    "    :type doc: :class:`pylatex.document.Document` instance\n",
    "    \"\"\"\n",
    "    with doc.create(Section('A section')):\n",
    "        doc.append('Some regular text and some ')\n",
    "        doc.append(italic('italic text. '))\n",
    "\n",
    "        with doc.create(Subsection('A subsection')):\n",
    "            doc.append('Also some crazy characters: $&#{}')\n",
    "\n",
    "\n",
    "if __name__ == '__main__':\n",
    "    # Basic document\n",
    "    doc = Document('basic')\n",
    "    fill_document(doc)\n",
    "\n",
    "    doc.generate_pdf(clean_tex=False)\n",
    "    doc.generate_tex()\n",
    "\n",
    "    # Document with `\\maketitle` command activated\n",
    "    doc = Document()\n",
    "\n",
    "    doc.preamble.append(Command('title', 'Awesome Title'))\n",
    "    doc.preamble.append(Command('author', 'Anonymous author'))\n",
    "    doc.preamble.append(Command('date', NoEscape(r'\\today')))\n",
    "    doc.append(NoEscape(r'\\maketitle'))\n",
    "\n",
    "    fill_document(doc)\n",
    "\n",
    "    doc.generate_pdf('basic_maketitle', clean_tex=False)\n",
    "\n",
    "    # Add stuff to the document\n",
    "    with doc.create(Section('A second section')):\n",
    "        doc.append('Some text.')\n",
    "\n",
    "    doc.generate_pdf('basic_maketitle2', clean_tex=False)\n",
    "    tex = doc.dumps()  # The document as string in LaTeX syntax"
   ]
  },
  {
   "cell_type": "code",
   "execution_count": null,
   "metadata": {},
   "outputs": [],
   "source": []
  }
 ],
 "metadata": {
  "kernelspec": {
   "display_name": "Python 3",
   "language": "python",
   "name": "python3"
  },
  "language_info": {
   "codemirror_mode": {
    "name": "ipython",
    "version": 3
   },
   "file_extension": ".py",
   "mimetype": "text/x-python",
   "name": "python",
   "nbconvert_exporter": "python",
   "pygments_lexer": "ipython3",
   "version": "3.8.3"
  }
 },
 "nbformat": 4,
 "nbformat_minor": 4
}
